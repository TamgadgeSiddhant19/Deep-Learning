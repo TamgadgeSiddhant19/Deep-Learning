{
 "cells": [
  {
   "cell_type": "code",
   "execution_count": 3,
   "id": "181d376a-8696-4916-87e0-02ca063cfaba",
   "metadata": {},
   "outputs": [],
   "source": [
    "import torch\n",
    "import torchvision\n",
    "import torch.nn as nn\n",
    "import torch.nn.functional as F\n",
    "import torch.optim as optim\n",
    "import matplotlib.pyplot as plt"
   ]
  },
  {
   "cell_type": "code",
   "execution_count": 4,
   "id": "de3082f8-5d65-4c9e-a5c7-f6b5cf3df4c7",
   "metadata": {},
   "outputs": [
    {
     "name": "stdout",
     "output_type": "stream",
     "text": [
      "Requirement already satisfied: torchvision in c:\\users\\ishan\\appdata\\local\\programs\\python\\python313\\lib\\site-packages (0.22.0)\n",
      "Requirement already satisfied: numpy in c:\\users\\ishan\\appdata\\local\\programs\\python\\python313\\lib\\site-packages (from torchvision) (2.2.1)\n",
      "Requirement already satisfied: torch==2.7.0 in c:\\users\\ishan\\appdata\\local\\programs\\python\\python313\\lib\\site-packages (from torchvision) (2.7.0)\n",
      "Requirement already satisfied: pillow!=8.3.*,>=5.3.0 in c:\\users\\ishan\\appdata\\local\\programs\\python\\python313\\lib\\site-packages (from torchvision) (11.0.0)\n",
      "Requirement already satisfied: filelock in c:\\users\\ishan\\appdata\\local\\programs\\python\\python313\\lib\\site-packages (from torch==2.7.0->torchvision) (3.18.0)\n",
      "Requirement already satisfied: typing-extensions>=4.10.0 in c:\\users\\ishan\\appdata\\local\\programs\\python\\python313\\lib\\site-packages (from torch==2.7.0->torchvision) (4.12.2)\n",
      "Requirement already satisfied: sympy>=1.13.3 in c:\\users\\ishan\\appdata\\local\\programs\\python\\python313\\lib\\site-packages (from torch==2.7.0->torchvision) (1.14.0)\n",
      "Requirement already satisfied: networkx in c:\\users\\ishan\\appdata\\local\\programs\\python\\python313\\lib\\site-packages (from torch==2.7.0->torchvision) (3.4.2)\n",
      "Requirement already satisfied: jinja2 in c:\\users\\ishan\\appdata\\local\\programs\\python\\python313\\lib\\site-packages (from torch==2.7.0->torchvision) (3.1.5)\n",
      "Requirement already satisfied: fsspec in c:\\users\\ishan\\appdata\\local\\programs\\python\\python313\\lib\\site-packages (from torch==2.7.0->torchvision) (2025.3.2)\n",
      "Requirement already satisfied: setuptools in c:\\users\\ishan\\appdata\\local\\programs\\python\\python313\\lib\\site-packages (from torch==2.7.0->torchvision) (75.6.0)\n",
      "Requirement already satisfied: mpmath<1.4,>=1.1.0 in c:\\users\\ishan\\appdata\\local\\programs\\python\\python313\\lib\\site-packages (from sympy>=1.13.3->torch==2.7.0->torchvision) (1.3.0)\n",
      "Requirement already satisfied: MarkupSafe>=2.0 in c:\\users\\ishan\\appdata\\local\\programs\\python\\python313\\lib\\site-packages (from jinja2->torch==2.7.0->torchvision) (3.0.2)\n"
     ]
    }
   ],
   "source": [
    "!pip install torchvision\n"
   ]
  },
  {
   "cell_type": "code",
   "execution_count": 5,
   "id": "84938e29-3cc4-4456-a34a-a80819206ea9",
   "metadata": {},
   "outputs": [],
   "source": [
    "import os \n",
    "os.environ['KMP_DUPLICATE_LIB_OK']='True'"
   ]
  },
  {
   "cell_type": "code",
   "execution_count": null,
   "id": "5cbd2c88-3850-49d0-a211-5c312c5121f0",
   "metadata": {},
   "outputs": [
    {
     "name": "stderr",
     "output_type": "stream",
     "text": [
      "100%|██████████████████████████████████████████████████████████████████████████████| 9.91M/9.91M [00:35<00:00, 276kB/s]\n",
      "100%|██████████████████████████████████████████████████████████████████████████████| 28.9k/28.9k [00:00<00:00, 121kB/s]\n",
      " 38%|█████████████████████████████▊                                                 | 623k/1.65M [00:02<00:03, 288kB/s]"
     ]
    }
   ],
   "source": [
    "# Run this once to load the train and test data straight into a dataloader class\n",
    "# that will provide the batches\n",
    "\n",
    "# (It may complain that some files are missing because the files seem to have been\n",
    "# reorganized on the underlying website, but it still seems to work). If everything is working\n",
    "# properly, then the whole notebook should run to the end without further problems\n",
    "# even before you make changes.\n",
    "batch_size_train = 64\n",
    "batch_size_test = 1000\n",
    "\n",
    "# TODO Change this directory to point towards an existing directory\n",
    "myDir = './mnist_data'\n",
    "\n",
    "\n",
    "train_loader = torch.utils.data.DataLoader(\n",
    "  torchvision.datasets.MNIST(myDir, train=True, download=True,\n",
    "                             transform=torchvision.transforms.Compose([\n",
    "                               torchvision.transforms.ToTensor(),\n",
    "                               torchvision.transforms.Normalize(\n",
    "                                 (0.1307,), (0.3081,))\n",
    "                             ])),\n",
    "  batch_size=batch_size_train, shuffle=True)\n",
    "\n",
    "test_loader = torch.utils.data.DataLoader(\n",
    "  torchvision.datasets.MNIST(myDir, train=False, download=True,\n",
    "                             transform=torchvision.transforms.Compose([\n",
    "                               torchvision.transforms.ToTensor(),\n",
    "                               torchvision.transforms.Normalize(\n",
    "                                 (0.1307,), (0.3081,))\n",
    "                             ])),\n",
    "  batch_size=batch_size_test, shuffle=True)"
   ]
  },
  {
   "cell_type": "code",
   "execution_count": null,
   "id": "6c865af2-cfe2-4c6a-96d6-4c8f8db40df9",
   "metadata": {},
   "outputs": [],
   "source": [
    "# Let's draw some of the training data\n",
    "examples = enumerate(test_loader)\n",
    "batch_idx, (example_data, example_targets) = next(examples)\n",
    "\n",
    "fig = plt.figure()\n",
    "for i in range(6):\n",
    "  plt.subplot(2,3,i+1)\n",
    "  plt.tight_layout()\n",
    "  plt.imshow(example_data[i][0], cmap='gray', interpolation='none')\n",
    "  plt.title(\"Ground Truth: {}\".format(example_targets[i]))\n",
    "  plt.xticks([])\n",
    "  plt.yticks([])\n",
    "plt.show()"
   ]
  },
  {
   "cell_type": "code",
   "execution_count": null,
   "id": "3570b458-e4a8-4023-b06d-254e9ccc236b",
   "metadata": {},
   "outputs": [],
   "source": [
    "from os import X_OK\n",
    "# TODO Change this class to implement\n",
    "# 1. A valid convolution with kernel size 5, 1 input channel and 10 output channels\n",
    "# 2. A max pooling operation over a 2x2 area\n",
    "# 3. A Relu\n",
    "# 4. A valid convolution with kernel size 5, 10 input channels and 20 output channels\n",
    "# 5. A 2D Dropout layer\n",
    "# 6. A max pooling operation over a 2x2 area\n",
    "# 7. A relu\n",
    "# 8. A flattening operation\n",
    "# 9. A fully connected layer mapping from (whatever dimensions we are at-- find out using .shape) to 50\n",
    "# 10. A ReLU\n",
    "# 11. A fully connected layer mapping from 50 to 10 dimensions\n",
    "# 12. A softmax function.\n",
    "\n",
    "# Replace this class which implements a minimal network (which still does okay)\n",
    "class Net(nn.Module):\n",
    "    def __init__(self):\n",
    "        super(Net, self).__init__()\n",
    "        # 1. Valid convolution with kernel size 5, 1 input channel, 10 output channels\n",
    "        self.conv1 = nn.Conv2d(in_channels=1, out_channels=10, kernel_size=5)  # output: (10, 24, 24)\n",
    "\n",
    "        # 2. Max pooling over 2x2 area\n",
    "        self.pool1 = nn.MaxPool2d(kernel_size=2, stride=2)  # output: (10, 12, 12)\n",
    "\n",
    "        # 4. Valid convolution with kernel size 5, 10 input channels, 20 output channels\n",
    "        self.conv2 = nn.Conv2d(in_channels=10, out_channels=20, kernel_size=5)  # output: (20, 8, 8)\n",
    "\n",
    "        # 5. 2D Dropout\n",
    "        self.dropout2d = nn.Dropout2d()\n",
    "\n",
    "        # 6. Max pooling over 2x2 area\n",
    "        self.pool2 = nn.MaxPool2d(kernel_size=2, stride=2)  # output: (20, 4, 4)\n",
    "\n",
    "        # 9. Fully connected layer from 20*4*4 = 320 to 50\n",
    "        self.fc1 = nn.Linear(320, 50)\n",
    "\n",
    "        # 11. Fully connected layer from 50 to 10\n",
    "        self.fc2 = nn.Linear(50, 10)\n",
    "\n",
    "    def forward(self, x):\n",
    "        # 1. Conv -> 2. MaxPool -> 3. ReLU\n",
    "        x = F.relu(self.pool1(self.conv1(x)))\n",
    "\n",
    "        # 4. Conv -> 5. Dropout2d -> 6. MaxPool -> 7. ReLU\n",
    "        x = F.relu(self.pool2(self.dropout2d(self.conv2(x))))\n",
    "\n",
    "        # 8. Flatten\n",
    "        x = torch.flatten(x, 1)  # flatten all dimensions except batch\n",
    "\n",
    "        # 9. Fully connected -> 10. ReLU\n",
    "        x = F.relu(self.fc1(x))\n",
    "\n",
    "        # 11. Fully connected\n",
    "        x = self.fc2(x)\n",
    "\n",
    "        # 12. Softmax (use log_softmax for better stability in classification tasks)\n",
    "        output = F.log_softmax(x, dim=1)\n",
    "        return output\n",
    "\n",
    "\n",
    "\n",
    "\n"
   ]
  },
  {
   "cell_type": "code",
   "execution_count": null,
   "id": "945a6945-52f3-416d-b252-7d01547dee34",
   "metadata": {},
   "outputs": [],
   "source": [
    "# He initialization of weights\n",
    "def weights_init(layer_in):\n",
    "  if isinstance(layer_in, nn.Linear):\n",
    "    nn.init.kaiming_uniform_(layer_in.weight)\n",
    "    layer_in.bias.data.fill_(0.0)"
   ]
  },
  {
   "cell_type": "code",
   "execution_count": null,
   "id": "a64baa01-525a-4eb8-81c8-5b12aa92a487",
   "metadata": {},
   "outputs": [],
   "source": [
    "# Create network\n",
    "model = Net()\n",
    "# Initialize model weights\n",
    "model.apply(weights_init)\n",
    "# Define optimizer\n",
    "optimizer = optim.SGD(model.parameters(), lr=0.01, momentum=0.5)"
   ]
  },
  {
   "cell_type": "code",
   "execution_count": null,
   "id": "9c112fe2-fcf2-4bc7-b7bb-17f40b4f2b37",
   "metadata": {},
   "outputs": [],
   "source": [
    "# Main training routine\n",
    "def train(epoch):\n",
    "  model.train()\n",
    "  # Get each\n",
    "  for batch_idx, (data, target) in enumerate(train_loader):\n",
    "    optimizer.zero_grad()\n",
    "    output = model(data)\n",
    "    loss = F.nll_loss(output, target)\n",
    "    loss.backward()\n",
    "    optimizer.step()\n",
    "    # Store results\n",
    "    if batch_idx % 10 == 0:\n",
    "      print('Train Epoch: {} [{}/{}]\\tLoss: {:.6f}'.format(\n",
    "        epoch, batch_idx * len(data), len(train_loader.dataset), loss.item()))"
   ]
  },
  {
   "cell_type": "code",
   "execution_count": null,
   "id": "a64dcdcf-1970-4d63-8c0a-178c3050ffc2",
   "metadata": {},
   "outputs": [],
   "source": [
    "# Run on test data\n",
    "def test():\n",
    "  model.eval()\n",
    "  test_loss = 0\n",
    "  correct = 0\n",
    "  with torch.no_grad():\n",
    "    for data, target in test_loader:\n",
    "      output = model(data)\n",
    "      test_loss += F.nll_loss(output, target, size_average=False).item()\n",
    "      pred = output.data.max(1, keepdim=True)[1]\n",
    "      correct += pred.eq(target.data.view_as(pred)).sum()\n",
    "  test_loss /= len(test_loader.dataset)\n",
    "  print('\\nTest set: Avg. loss: {:.4f}, Accuracy: {}/{} ({:.0f}%)\\n'.format(\n",
    "    test_loss, correct, len(test_loader.dataset),\n",
    "    100. * correct / len(test_loader.dataset)))"
   ]
  },
  {
   "cell_type": "code",
   "execution_count": null,
   "id": "5c0e0da8-5ee6-41b9-b4b5-f327c90f5971",
   "metadata": {},
   "outputs": [],
   "source": [
    "# Get initial performance\n",
    "test()\n",
    "# Train for three epochs\n",
    "n_epochs = 3\n",
    "for epoch in range(1, n_epochs + 1):\n",
    "  train(epoch)\n",
    "  test()"
   ]
  },
  {
   "cell_type": "code",
   "execution_count": null,
   "id": "4ed21ae1-bd35-4d7b-a49a-dd291c50819f",
   "metadata": {},
   "outputs": [],
   "source": [
    "# Run network on data we got before and show predictions\n",
    "output = model(example_data)\n",
    "\n",
    "fig = plt.figure()\n",
    "for i in range(10):\n",
    "  plt.subplot(5,5,i+1)\n",
    "  plt.tight_layout()\n",
    "  plt.imshow(example_data[i][0], cmap='gray', interpolation='none')\n",
    "  plt.title(\"Prediction: {}\".format(\n",
    "    output.data.max(1, keepdim=True)[1][i].item()))\n",
    "  plt.xticks([])\n",
    "  plt.yticks([])\n",
    "plt.show()"
   ]
  }
 ],
 "metadata": {
  "kernelspec": {
   "display_name": "Python 3 (ipykernel)",
   "language": "python",
   "name": "python3"
  },
  "language_info": {
   "codemirror_mode": {
    "name": "ipython",
    "version": 3
   },
   "file_extension": ".py",
   "mimetype": "text/x-python",
   "name": "python",
   "nbconvert_exporter": "python",
   "pygments_lexer": "ipython3",
   "version": "3.13.1"
  }
 },
 "nbformat": 4,
 "nbformat_minor": 5
}
